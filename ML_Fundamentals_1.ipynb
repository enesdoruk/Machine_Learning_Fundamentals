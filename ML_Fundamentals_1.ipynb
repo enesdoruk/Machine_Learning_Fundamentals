{
 "cells": [
  {
   "cell_type": "markdown",
   "metadata": {},
   "source": [
    "### What is Machine Learning"
   ]
  },
  {
   "cell_type": "markdown",
   "metadata": {},
   "source": [
    "Machine Learning is the secience of programming computers so they can lern from data.\n",
    "\n",
    "Machine learning is the field of study that gives computers the ability to learn without being explicitly programmed"
   ]
  },
  {
   "cell_type": "markdown",
   "metadata": {},
   "source": [
    "### Data Mining"
   ]
  },
  {
   "cell_type": "markdown",
   "metadata": {},
   "source": [
    "Applying ML techniques to dig into large amounts of data can help discover patterns that were not immediately apperant. This is called data mining"
   ]
  },
  {
   "cell_type": "markdown",
   "metadata": {},
   "source": [
    "### Machine learning is great for:"
   ]
  },
  {
   "cell_type": "markdown",
   "metadata": {},
   "source": [
    "- Problems for which existing solutions require a lot of hand-tuning or long lists of rule: one  ML algoritm can often simlify code and perform better.\n",
    "- Complex problems for which there is no good solution at all using a traditional approach: the best ML techniques can find a solution."
   ]
  },
  {
   "cell_type": "markdown",
   "metadata": {},
   "source": [
    "### supervised - unsupervised Learning"
   ]
  },
  {
   "cell_type": "markdown",
   "metadata": {},
   "source": [
    "Machine learning system can be classified according to the amount and type of supervision they get during training. There are four major categories: supervised, unsupervised, semisupervised and reinforcement learning."
   ]
  },
  {
   "cell_type": "markdown",
   "metadata": {},
   "source": [
    "### Supervised Learning"
   ]
  },
  {
   "cell_type": "markdown",
   "metadata": {},
   "source": [
    "In supervised learning, the training data you feed to the algoritm includes the desired soltuions called label.\n",
    "\n",
    "a typical supervised learning task is classification. \n",
    "\n",
    "another typical task is to predict a target numeric value, such as the price of a car, given a set of features called predictors. This sort of task is called regression.\n"
   ]
  },
  {
   "cell_type": "markdown",
   "metadata": {},
   "source": [
    "Supervised Algoritms:\n",
    "\n",
    "- K-nearest neighbors\n",
    "- Linear regression\n",
    "- Logistic regression\n",
    "- Support vector machines\n",
    "- Decison trees and random forests\n",
    "- Neural networks"
   ]
  },
  {
   "cell_type": "markdown",
   "metadata": {},
   "source": [
    "### Unsupervised Learning"
   ]
  },
  {
   "cell_type": "markdown",
   "metadata": {},
   "source": [
    "Clustering:\n",
    " - K-means\n",
    " - hierarchial cluster analysis\n",
    " - expectation maximization\n",
    " \n",
    " Visualization and dimensionality reduction:\n",
    "  - pricibal component analysis\n",
    "  - kernel PCA\n",
    "  - locally linear embedding \n",
    "  - t-distributed stochastic neighbor embedding \n",
    " \n",
    "Association rule learning:\n",
    " - Apriori\n",
    " - Eclat "
   ]
  },
  {
   "cell_type": "markdown",
   "metadata": {},
   "source": [
    "if you use a hierarchial cluster algoritm, it may also subdivide each group into smaller groups. \n",
    "\n",
    "Dimensionality reduction, in which the goal is to simplify the data without losing too much information.\n",
    "\n",
    "Unsupervised task is association rule learning, in which the goal is to dig into large amounts of data discover interesting relations between attributes."
   ]
  },
  {
   "cell_type": "markdown",
   "metadata": {},
   "source": [
    "### Semisupervised Learning"
   ]
  },
  {
   "cell_type": "markdown",
   "metadata": {},
   "source": [
    "Some algoritms can deal with partially labeled training data, usually a lot of unlabeled data and a little bit of labeled data. This is called semisupervised learnin.\n",
    "\n",
    "Deep belief networks are based on unsupervised components called resticted boltzmann machines stacked on top of one another. RBMs are trained sequentially in an unsupervised manner, and then the whole system is fine-tuned using supervised learning techniques."
   ]
  },
  {
   "cell_type": "markdown",
   "metadata": {},
   "source": [
    "### Batch Learning"
   ]
  },
  {
   "cell_type": "markdown",
   "metadata": {},
   "source": [
    "in batch learning, the system is incapable of learning incremantally. it must be trained using all the available data. This will generally take a lot of time and computing resoruches, so it is typically done offline. First the system is trained and then it is launched into production and runs without learning anymore it just applies what if has learned. This is called offline learning"
   ]
  },
  {
   "cell_type": "markdown",
   "metadata": {},
   "source": [
    "ıf you want to batch learnıng system t o know about new data, you need to train a new version of the system from scratch on the full dataset, then stop the old system and replace it with the now one\n",
    "\n",
    "Batch learnig system can adapt to change. Simply update to the data and train a new version of the system from scratch as often as needed"
   ]
  },
  {
   "cell_type": "markdown",
   "metadata": {},
   "source": [
    "### Online Learning"
   ]
  },
  {
   "cell_type": "markdown",
   "metadata": {},
   "source": [
    "Online learning, you train the system incrementally by feeding it data instances sequentally either indivudally or by small groups called mini-batches\n",
    "\n",
    "one important parameter of online learning system is how fast they should adapt to changing data, this is called learning rate."
   ]
  },
  {
   "cell_type": "markdown",
   "metadata": {},
   "source": [
    "### Instance Based Learning"
   ]
  },
  {
   "cell_type": "markdown",
   "metadata": {},
   "source": [
    "instance based learning: the system learns the examples by heart then generalizes to new cases using a similarity measure"
   ]
  },
  {
   "cell_type": "markdown",
   "metadata": {},
   "source": [
    "### Model Based Learning"
   ]
  },
  {
   "cell_type": "markdown",
   "metadata": {},
   "source": [
    "Another way to generalize from a set of examples is to build a model of these examples then use that model to make predictions. This is called model based learning\n"
   ]
  },
  {
   "cell_type": "markdown",
   "metadata": {},
   "source": [
    "You decide to model life satisfaction goes up more or less linearly as the countrys GDP per capita. This is called model selection: you selected a linear model of life satisfaction with just one attribute "
   ]
  },
  {
   "cell_type": "code",
   "execution_count": null,
   "metadata": {},
   "outputs": [],
   "source": [
    "import matplotlib \n",
    "import matplotlib.pyplot as plt \n",
    "import numpy as np\n",
    "import pandas as pd\n",
    "import sklearn\n",
    "\n",
    "oecd_bli = pd.read_csv(\"oecd_bli.csv\", thousands = ',')\n",
    "\n",
    "gdp_per_capita = pd.read_csv(\"gdp_per_CAPITA.csv\", thousands = ',', delimiter = '\\t',\n",
    "                            encoding = 'lattin1', na_values = \"n/a\")\n",
    "\n",
    "country_stats = prepare_country_stats( oecd_bli, gdp_per_capita0)\n",
    "\n",
    "x = np.c_[country_stats[\"GPD\"]]\n",
    "y = np.c_[country_stats[\"life sat\"]]\n",
    "\n",
    "country_stats.plot( kind = 'scatter', x = 'GDP', y = 'life sat')\n",
    "plt.show()\n",
    "\n",
    "lin_reg_model = sklearn.linear_model.LinearRegression()\n",
    "\n",
    "lin_reg_model.fit(x,y)\n",
    "\n",
    "X_new = [[22587]]\n",
    "print(lin_reg_model.predict(X_new))"
   ]
  },
  {
   "cell_type": "markdown",
   "metadata": {},
   "source": [
    "### Poor Quality data"
   ]
  },
  {
   "cell_type": "markdown",
   "metadata": {},
   "source": [
    "if your taining data is full of errors, ouliers and noise, it will make it harder for the system to detect the underlying patterns, so your system is less likely to perform well. it is often well worth the effort to spend time cleaning up your training data."
   ]
  },
  {
   "cell_type": "markdown",
   "metadata": {},
   "source": [
    "### Irrelevant Features"
   ]
  },
  {
   "cell_type": "markdown",
   "metadata": {},
   "source": [
    "A critical part of the success of a ML project is coming up with a good set of features to train on. This process called feature engineering"
   ]
  },
  {
   "cell_type": "markdown",
   "metadata": {},
   "source": [
    "- Feature selection = selecting the most useful features to train on among features.\n",
    "- Feature extraction = combining existing features to produce a more useful one "
   ]
  },
  {
   "cell_type": "markdown",
   "metadata": {},
   "source": [
    "### Overfitting the training data"
   ]
  },
  {
   "cell_type": "markdown",
   "metadata": {},
   "source": [
    "the model performs well on the training data, but it does not generalize well. \n",
    "\n",
    "Constraining a model to make it simpler and reduce the risk of overfitting is called regularization\n",
    "\n",
    "The amount of regularization to applt during learning can be controlled by a hyperparameter. A hyperparameter is a parameter of a learning algoritm. \n"
   ]
  },
  {
   "cell_type": "markdown",
   "metadata": {},
   "source": [
    "### Underfitting the training data\n"
   ]
  },
  {
   "cell_type": "markdown",
   "metadata": {},
   "source": [
    "it occurs when your model is too simple to learn the underlying structure of the data\n",
    "\n",
    "The main options to fix this problem are:\n",
    " - Selecting a more powerful model, with more parameters\n",
    " - Feeding better features to the learning algoritm"
   ]
  }
 ],
 "metadata": {
  "kernelspec": {
   "display_name": "Python 3",
   "language": "python",
   "name": "python3"
  },
  "language_info": {
   "codemirror_mode": {
    "name": "ipython",
    "version": 3
   },
   "file_extension": ".py",
   "mimetype": "text/x-python",
   "name": "python",
   "nbconvert_exporter": "python",
   "pygments_lexer": "ipython3",
   "version": "3.7.4"
  }
 },
 "nbformat": 4,
 "nbformat_minor": 2
}
