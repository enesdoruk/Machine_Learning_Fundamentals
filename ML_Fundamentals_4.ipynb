{
 "cells": [
  {
   "cell_type": "markdown",
   "metadata": {},
   "source": [
    "## TRAINING MODELS"
   ]
  },
  {
   "cell_type": "markdown",
   "metadata": {},
   "source": [
    "• Using a direct “closed-form” equation that directly computes the model parame‐\n",
    "ters that best fit the model to the training set (i.e., the model parameters that\n",
    "minimize the cost function over the training set).\n",
    "\n",
    "• Using an iterative optimization approach, called Gradient Descent (GD), that\n",
    "gradually tweaks the model parameters to minimize the cost function over the\n",
    "training set, eventually converging to the same set of parameters as the first\n",
    "method. We will look at a few variants of Gradient Descent that we will use again\n",
    "and again when we study neural networks in Part II: Batch GD, Mini-batch GD,\n",
    "and Stochastic GD.\n"
   ]
  },
  {
   "cell_type": "markdown",
   "metadata": {},
   "source": [
    "### Linear Regression\n"
   ]
  },
  {
   "cell_type": "markdown",
   "metadata": {},
   "source": [
    "In practice, it is simpler to minimize the Mean Square Error (MSE)\n",
    "than the RMSE, and it leads to the same result (because the value that minimizes a\n",
    "function also minimizes its square root).1"
   ]
  },
  {
   "cell_type": "markdown",
   "metadata": {},
   "source": [
    "### The Normal Equation"
   ]
  },
  {
   "cell_type": "code",
   "execution_count": 1,
   "metadata": {},
   "outputs": [],
   "source": [
    "import numpy as np\n",
    "X = 2 * np.random.rand(100, 1)\n",
    "y = 4 + 3 * X + np.random.randn(100, 1)"
   ]
  },
  {
   "cell_type": "code",
   "execution_count": 2,
   "metadata": {},
   "outputs": [
    {
     "data": {
      "text/plain": [
       "array([[4.08960276],\n",
       "       [3.11154389]])"
      ]
     },
     "execution_count": 2,
     "metadata": {},
     "output_type": "execute_result"
    }
   ],
   "source": [
    "X_b = np.c_[np.ones((100, 1)), X] \n",
    "\n",
    "theta_best = np.linalg.inv(X_b.T.dot(X_b)).dot(X_b.T).dot(y)\n",
    "\n",
    "theta_best\n",
    "\n",
    "\n"
   ]
  },
  {
   "cell_type": "code",
   "execution_count": 3,
   "metadata": {},
   "outputs": [
    {
     "data": {
      "text/plain": [
       "array([[ 4.08960276],\n",
       "       [10.31269054]])"
      ]
     },
     "execution_count": 3,
     "metadata": {},
     "output_type": "execute_result"
    }
   ],
   "source": [
    "X_new = np.array([[0], [2]])\n",
    "X_new_b = np.c_[np.ones((2, 1)), X_new]\n",
    "y_predict = X_new_b.dot(theta_best)\n",
    "y_predict"
   ]
  },
  {
   "cell_type": "code",
   "execution_count": 5,
   "metadata": {},
   "outputs": [
    {
     "data": {
      "image/png": "[encoded data removed]",
      "text/plain": [
       "<Figure size 432x288 with 1 Axes>"
      ]
     },
     "metadata": {
      "needs_background": "light"
     },
     "output_type": "display_data"
    }
   ],
   "source": [
    "import matplotlib.pyplot as plt\n",
    "\n",
    "plt.plot(X_new, y_predict, \"r-\")\n",
    "plt.plot(X, y, \"b.\")\n",
    "plt.axis([0, 2, 0, 15])\n",
    "plt.show()"
   ]
  },
  {
   "cell_type": "code",
   "execution_count": 6,
   "metadata": {},
   "outputs": [
    {
     "data": {
      "text/plain": [
       "array([[ 4.08960276],\n",
       "       [10.31269054]])"
      ]
     },
     "execution_count": 6,
     "metadata": {},
     "output_type": "execute_result"
    }
   ],
   "source": [
    "from sklearn.linear_model import LinearRegression\n",
    "lin_reg = LinearRegression()\n",
    "lin_reg.fit(X, y)\n",
    "lin_reg.intercept_, lin_reg.coef_\n",
    "lin_reg.predict(X_new)"
   ]
  },
  {
   "cell_type": "markdown",
   "metadata": {},
   "source": [
    "### Computational Complexity\n"
   ]
  },
  {
   "cell_type": "markdown",
   "metadata": {},
   "source": [
    " making predictions on twice as many\n",
    "instances (or twice as many features) will just take roughly twice as much time."
   ]
  },
  {
   "cell_type": "markdown",
   "metadata": {},
   "source": [
    "### Gradient Descent\n"
   ]
  },
  {
   "cell_type": "markdown",
   "metadata": {},
   "source": [
    "Gradient Descent is a very generic optimization algorithm capable of finding optimal\n",
    "solutions to a wide range of problems. The general idea of Gradient Descent is to\n",
    "tweak parameters iteratively in order to minimize a cost function.\n",
    "\n",
    "t. A good strategy to get to the bottom of the valley quickly\n",
    "is to go downhill in the direction of the steepest slope. \n",
    "\n",
    " you start by filling θ with random values (this is called random initializa‐\n",
    "tion), and then you improve it gradually, taking one baby step at a time, each step\n",
    "attempting to decrease the cost function \n"
   ]
  },
  {
   "cell_type": "markdown",
   "metadata": {},
   "source": [
    " If the learning rate is too small, then the algorithm\n",
    "will have to go through many iterations to converge, which will take a long time\n",
    "\n",
    " if the learning rate is too high, you might jump across the valley\n",
    "and end up on the other side, possibly even higher up than you were before. This\n",
    "might make the algorithm diverge, with larger and larger values, failing to find a good\n",
    "solution\n",
    "\n",
    "two main challenges with Gradient Descent: if the ran‐\n",
    "dom initialization starts the algorithm on the left, then it will converge to a local mini‐\n",
    "mum, which is not as good as the global minimum. If it starts on the right, then it will\n",
    "take a very long time to cross the plateau, and if you stop too early you will never\n",
    "reach the global minimum.\n"
   ]
  },
  {
   "cell_type": "markdown",
   "metadata": {},
   "source": [
    "Fortunately, the MSE cost function for a Linear Regression model happens to be a\n",
    "convex function, which means that if you pick any two points on the curve, the line\n",
    "segment joining them never crosses the curve. This implies that there are no local\n",
    "minima, just one global minimum. "
   ]
  },
  {
   "cell_type": "markdown",
   "metadata": {},
   "source": [
    "This diagram also illustrates the fact that training a model means searching for a\n",
    "combination of model parameters that minimizes a cost function"
   ]
  },
  {
   "cell_type": "markdown",
   "metadata": {},
   "source": [
    "### Batch Gradient"
   ]
  },
  {
   "cell_type": "markdown",
   "metadata": {},
   "source": [
    "To implement Gradient Descent, you need to compute the gradient of the cost func‐\n",
    "tion with regards to each model parameter θj\n",
    ". In other words, you need to calculate\n",
    "how much the cost function will change if you change θj\n",
    "just a little bit. This is called\n",
    "a partial derivative."
   ]
  },
  {
   "cell_type": "markdown",
   "metadata": {},
   "source": [
    "Notice that this formula involves calculations over the full training\n",
    "set X, at each Gradient Descent step! This is why the algorithm is\n",
    "called Batch Gradient Descent: it uses the whole batch of training\n",
    "data at every step"
   ]
  },
  {
   "cell_type": "markdown",
   "metadata": {},
   "source": [
    "Once you have the gradient vector, which points uphill, just go in the opposite direc‐\n",
    "tion to go downhill."
   ]
  },
  {
   "cell_type": "code",
   "execution_count": 8,
   "metadata": {},
   "outputs": [
    {
     "data": {
      "text/plain": [
       "array([[4.08960276],\n",
       "       [3.11154389]])"
      ]
     },
     "execution_count": 8,
     "metadata": {},
     "output_type": "execute_result"
    }
   ],
   "source": [
    "eta = 0.1 \n",
    "n_iterations = 1000\n",
    "m = 100\n",
    "theta = np.random.randn(2,1) \n",
    "for iteration in range(n_iterations):\n",
    "    gradients = 2/m * X_b.T.dot(X_b.dot(theta) - y)\n",
    "    theta = theta - eta * gradients\n",
    "theta\n"
   ]
  },
  {
   "cell_type": "markdown",
   "metadata": {},
   "source": [
    "To find a good learning rate, you can use grid search (see Chapter 2). However, you\n",
    "may want to limit the number of iterations so that grid search can eliminate models\n",
    "that take too long to converge.\n",
    "\n",
    "\n",
    "You may wonder how to set the number of iterations. If it is too low, you will still be\n",
    "far away from the optimal solution when the algorithm stops, but if it is too high, you\n",
    "will waste time while the model parameters do not change anymore. A simple solu‐\n",
    "tion is to set a very large number of iterations but to interrupt the algorithm when the\n",
    "gradient vector becomes tiny—that is, when its norm becomes smaller than a tiny\n",
    "number ϵ (called the tolerance)—because this happens when Gradient Descent has\n",
    "(almost) reached the minimum.\n"
   ]
  },
  {
   "cell_type": "markdown",
   "metadata": {},
   "source": [
    "### Stochastic Gradient Descent\n"
   ]
  },
  {
   "cell_type": "markdown",
   "metadata": {},
   "source": [
    "The main problem with Batch Gradient Descent is the fact that it uses the whole\n",
    "training set to compute the gradients at every step, which makes it very slow when\n",
    "the training set is large.\n",
    "\n",
    "Stochastic Gradient Descent just\n",
    "picks a random instance in the training set at every step and computes the gradients\n",
    "based only on that single instance. Obviously this makes the algorithm much faster\n",
    "since it has very little data to manipulate at every iteration.\n",
    "\n",
    " this algorithm is much\n",
    "less regular than Batch Gradient Descent: instead of gently decreasing until it reaches\n",
    "the minimum, the cost function will bounce up and down, decreasing only on aver‐\n",
    "age."
   ]
  },
  {
   "cell_type": "markdown",
   "metadata": {},
   "source": [
    "When the cost function is very irregular (as in Figure 4-6), this can actually help the\n",
    "algorithm jump out of local minima, so Stochastic Gradient Descent has a better\n",
    "chance of finding the global minimum than Batch Gradient Descent does.\n",
    "Therefore randomness is good to escape from local optima, but bad because it means\n",
    "that the algorithm can never settle at the minimum. One solution to this dilemma is\n",
    "to gradually reduce the learning rate. The steps start out large (which helps make\n",
    "quick progress and escape local minima), then get smaller and smaller, allowing the\n",
    "algorithm to settle at the global minimum. This process is called simulated annealing,\n",
    "because it resembles the process of annealing in metallurgy where molten metal is\n",
    "slowly cooled down. The function that determines the learning rate at each iteration\n",
    "is called the learning schedule. If the learning rate is reduced too quickly, you may get\n",
    "stuck in a local minimum, or even end up frozen halfway to the minimum. If the\n",
    "learning rate is reduced too slowly, you may jump around the minimum for a long\n",
    "time and end up with a suboptimal solution if you halt training too early."
   ]
  },
  {
   "cell_type": "code",
   "execution_count": 9,
   "metadata": {},
   "outputs": [
    {
     "data": {
      "text/plain": [
       "array([[4.10037016],\n",
       "       [3.11384215]])"
      ]
     },
     "execution_count": 9,
     "metadata": {},
     "output_type": "execute_result"
    }
   ],
   "source": [
    "n_epochs = 50\n",
    "t0, t1 = 5, 50 \n",
    "def learning_schedule(t):\n",
    "    return t0 / (t + t1)\n",
    "theta = np.random.randn(2,1)\n",
    "for epoch in range(n_epochs):\n",
    "    for i in range(m):\n",
    "        random_index = np.random.randint(m)\n",
    "        xi = X_b[random_index:random_index+1]\n",
    "        yi = y[random_index:random_index+1]\n",
    "        gradients = 2 * xi.T.dot(xi.dot(theta) - yi)\n",
    "        eta = learning_schedule(epoch * m + i)\n",
    "        theta = theta - eta * gradients\n",
    "\n",
    "theta"
   ]
  },
  {
   "cell_type": "markdown",
   "metadata": {},
   "source": [
    " If you want to be sure that the\n",
    "algorithm goes through every instance at each epoch, another approach is to shuffle\n",
    "the training set, then go through it instance by instance, then shuffle it again, and so\n",
    "on. However, this generally converges more slowly.\n",
    "\n",
    " you can use the SGDRe\n",
    "gressor class, which defaults to optimizing the squared error cost function. The fol‐\n",
    "lowing code runs 50 epochs, starting with a learning rate of 0.1 (eta0=0.1), using the\n",
    "default learning schedule (different from the preceding one), and it does not use any\n",
    "regularization (penalty=None; more details on this shortly):\n"
   ]
  },
  {
   "cell_type": "markdown",
   "metadata": {},
   "source": [
    "### Mini-batch Gradient Descent\n"
   ]
  },
  {
   "cell_type": "markdown",
   "metadata": {},
   "source": [
    " Batch and Stochastic Gradi‐\n",
    "ent Descent: at each step, instead of computing the gradients based on the full train‐\n",
    "ing set (as in Batch GD) or based on just one instance (as in Stochastic GD), MiniGradient Descent | 119\n",
    "Download from finelybook www.finelybook.com\n",
    "8 While the Normal Equation can only perform Linear Regression, the Gradient Descent algorithms can be\n",
    "used to train many other models, as we will see.\n",
    "batch GD computes the gradients on small random sets of instances called minibatches. The main advantage of Mini-batch GD over Stochastic GD is that you can\n",
    "get a performance boost from hardware optimization of matrix operations, especially\n",
    "when using GPUs."
   ]
  },
  {
   "cell_type": "markdown",
   "metadata": {},
   "source": [
    "Batch GD’s path actually stops at the\n",
    "minimum, while both Stochastic GD and Mini-batch GD continue to walk around.\n",
    "However, don’t forget that Batch GD takes a lot of time to take each step, and Stochas‐\n",
    "tic GD and Mini-batch GD would also reach the minimum if you used a good learn‐\n",
    "ing schedule."
   ]
  },
  {
   "cell_type": "markdown",
   "metadata": {},
   "source": [
    "### Polynomial Regression\n"
   ]
  },
  {
   "cell_type": "code",
   "execution_count": 15,
   "metadata": {},
   "outputs": [],
   "source": [
    "m = 100\n",
    "X = 6 * np.random.rand(m, 1) - 3\n",
    "y = 0.5 * X**2 + X + 2 + np.random.randn(m, 1)"
   ]
  },
  {
   "cell_type": "code",
   "execution_count": 16,
   "metadata": {},
   "outputs": [
    {
     "data": {
      "text/plain": [
       "array([-2.31290703,  5.34953895])"
      ]
     },
     "execution_count": 16,
     "metadata": {},
     "output_type": "execute_result"
    }
   ],
   "source": [
    "from sklearn.preprocessing import PolynomialFeatures\n",
    "poly_features = PolynomialFeatures(degree=2, include_bias=False)\n",
    "X_poly = poly_features.fit_transform(X)\n",
    "X_poly[0]\n"
   ]
  },
  {
   "cell_type": "code",
   "execution_count": 17,
   "metadata": {},
   "outputs": [
    {
     "data": {
      "text/plain": [
       "(array([2.00898697]), array([[1.00437085, 0.51217598]]))"
      ]
     },
     "execution_count": 17,
     "metadata": {},
     "output_type": "execute_result"
    }
   ],
   "source": [
    "lin_reg = LinearRegression()\n",
    "lin_reg.fit(X_poly, y)\n",
    "lin_reg.intercept_, lin_reg.coef_\n"
   ]
  },
  {
   "cell_type": "markdown",
   "metadata": {},
   "source": [
    "### Learning Curves\n"
   ]
  },
  {
   "cell_type": "markdown",
   "metadata": {},
   "source": [
    "If you perform high-degree Polynomial Regression, you will likely fit the training\n",
    "data much better than with plain Linear Regression.\n",
    "\n",
    "this high-degree Polynomial Regression model is severely overfitting the\n",
    "training data, while the linear model is underfitting it. The model that will generalize\n",
    "best in this case is the quadratic model."
   ]
  },
  {
   "cell_type": "markdown",
   "metadata": {},
   "source": [
    " you used cross-validation to get an estimate of a model’s generalization\n",
    "performance. If a model performs well on the training data but generalizes poorly\n",
    "according to the cross-validation metrics, then your model is overfitting. If it per‐\n",
    "forms poorly on both, then it is underfitting. \n",
    "\n",
    " learning curves: these are plots of the model’s perfor‐\n",
    "mance on the training set and the validation set as a function of the training set size.\n"
   ]
  },
  {
   "cell_type": "code",
   "execution_count": 19,
   "metadata": {},
   "outputs": [
    {
     "data": {
      "image/png": "[encoded data removed]",
      "text/plain": [
       "<Figure size 432x288 with 1 Axes>"
      ]
     },
     "metadata": {
      "needs_background": "light"
     },
     "output_type": "display_data"
    }
   ],
   "source": [
    "from sklearn.metrics import mean_squared_error\n",
    "from sklearn.model_selection import train_test_split\n",
    "def plot_learning_curves(model, X, y):\n",
    "    X_train, X_val, y_train, y_val = train_test_split(X, y, test_size=0.2)\n",
    "    train_errors, val_errors = [], []\n",
    "    for m in range(1, len(X_train)):\n",
    "        model.fit(X_train[:m], y_train[:m])\n",
    "        y_train_predict = model.predict(X_train[:m])\n",
    "        y_val_predict = model.predict(X_val)\n",
    "        train_errors.append(mean_squared_error(y_train_predict, y_train[:m]))\n",
    "        val_errors.append(mean_squared_error(y_val_predict, y_val))\n",
    "    plt.plot(np.sqrt(train_errors), \"r-+\", linewidth=2, label=\"train\")\n",
    "    plt.plot(np.sqrt(val_errors), \"b-\", linewidth=3, label=\"val\")\n",
    "    \n",
    "    \n",
    "lin_reg = LinearRegression()\n",
    "plot_learning_curves(lin_reg, X, y)"
   ]
  },
  {
   "cell_type": "markdown",
   "metadata": {},
   "source": [
    "n the training\n",
    "data: when there are just one or two instances in the training set, the model can fit\n",
    "them perfectly, which is why the curve starts at zero. But as new instances are added\n",
    "to the training set, it becomes impossible for the model to fit the training data per‐\n",
    "fectly, both because the data is noisy and because it is not linear at all. So the error on\n",
    "the training data goes up until it reaches a plateau, at which point adding new instan‐\n",
    "ces to the training set doesn’t make the average error much better or worse. "
   ]
  },
  {
   "cell_type": "markdown",
   "metadata": {},
   "source": [
    "why the validation error is initially quite big. Then as the model is shown more\n",
    "training examples, it learns and thus the validation error slowly goes down. However,\n",
    "once again a straight line cannot do a good job modeling the data, so the error ends\n",
    "up at a plateau, very close to the other curve.\n"
   ]
  },
  {
   "cell_type": "code",
   "execution_count": 20,
   "metadata": {},
   "outputs": [
    {
     "data": {
      "image/png": "[encoded data removed]",
      "text/plain": [
       "<Figure size 432x288 with 1 Axes>"
      ]
     },
     "metadata": {
      "needs_background": "light"
     },
     "output_type": "display_data"
    }
   ],
   "source": [
    "from sklearn.pipeline import Pipeline\n",
    "polynomial_regression = Pipeline((\n",
    " (\"poly_features\", PolynomialFeatures(degree=10, include_bias=False)),\n",
    " (\"sgd_reg\", LinearRegression()),\n",
    " ))\n",
    "plot_learning_curves(polynomial_regression, X, y)"
   ]
  },
  {
   "cell_type": "markdown",
   "metadata": {},
   "source": [
    "• The error on the training data is much lower than with the Linear Regression\n",
    "model.\n",
    "\n",
    "\n",
    "• There is a gap between the curves. This means that the model performs signifi‐\n",
    "cantly better on the training data than on the validation data, which is the hall‐\n",
    "mark of an overfitting model. However, if you used a much larger training set,\n",
    "the two curves would continue to get closer."
   ]
  },
  {
   "cell_type": "markdown",
   "metadata": {},
   "source": [
    "## Regularized Linear Models\n"
   ]
  },
  {
   "cell_type": "markdown",
   "metadata": {},
   "source": [
    " a good way to reduce overfitting is to regularize the\n",
    "model (i.e., to constrain it): the fewer degrees of freedom it has, the harder it will be\n",
    "for it to overfit the data. For example, a simple way to regularize a polynomial model\n",
    "is to reduce the number of polynomial degrees.\n",
    "\n",
    "For a linear model, regularization is typically achieved by constraining the weights of\n",
    "the model. We will now look at Ridge Regression, Lasso Regression, and Elastic Net,\n",
    "which implement three different ways to constrain the weights."
   ]
  },
  {
   "cell_type": "markdown",
   "metadata": {},
   "source": [
    "### Ridge Regression\n"
   ]
  },
  {
   "cell_type": "markdown",
   "metadata": {},
   "source": [
    "Ridge Regression (also called Tikhonov regularization) is a regularized version of Lin‐\n",
    "ear Regression\n",
    "This forces the learning algorithm to not only fit the data but also keep the model\n",
    "weights as small as possible. Note that the regularization term should only be added\n",
    "to the cost function during training. Once the model is trained, you want to evaluate\n",
    "the model’s performance using the unregularized performance measure.\n"
   ]
  },
  {
   "cell_type": "markdown",
   "metadata": {},
   "source": [
    "The hyperparameter α controls how much you want to regularize the model. If α = 0\n",
    "then Ridge Regression is just Linear Regression. If α is very large, then all weights end\n",
    "up very close to zero and the result is a flat line going through the data’s mean"
   ]
  },
  {
   "cell_type": "markdown",
   "metadata": {},
   "source": [
    "several Ridge models trained on some linear data using different α\n",
    "value. On the left, plain Ridge models are used, leading to linear predictions. On the\n",
    "right, the data is first expanded using PolynomialFeatures(degree=10), then it is\n",
    "scaled using a StandardScaler, and finally the Ridge models are applied to the result‐\n",
    "ing features: this is Polynomial Regression with Ridge regularization. Note how\n",
    "increasing α leads to flatter (i.e., less extreme, more reasonable) predictions; this\n",
    "reduces the model’s variance but increases its bias."
   ]
  },
  {
   "cell_type": "code",
   "execution_count": 21,
   "metadata": {},
   "outputs": [
    {
     "data": {
      "text/plain": [
       "array([4.98480562])"
      ]
     },
     "execution_count": 21,
     "metadata": {},
     "output_type": "execute_result"
    }
   ],
   "source": [
    "from sklearn.linear_model import Ridge\n",
    "ridge_reg = Ridge(alpha=1, solver=\"cholesky\")\n",
    "ridge_reg.fit(X, y)\n",
    "ridge_reg.predict([[1.5]])\n",
    "\n",
    "sgd_reg = SGDRegressor(penalty=\"l2\")\n",
    "sgd_reg.fit(X, y.ravel())\n",
    "sgd_reg.predict([[1.5]])"
   ]
  },
  {
   "cell_type": "markdown",
   "metadata": {},
   "source": [
    "The penalty hyperparameter sets the type of regularization term to use. Specifying\n",
    "\"l2\" indicates that you want SGD to add a regularization term to the cost function\n",
    "equal to half the square of the ℓ2\n",
    " norm of the weight vector: this is simply Ridge\n",
    "Regression."
   ]
  },
  {
   "cell_type": "markdown",
   "metadata": {},
   "source": [
    "### Lasso Regression\n"
   ]
  },
  {
   "cell_type": "markdown",
   "metadata": {},
   "source": [
    "Least Absolute Shrinkage and Selection Operator Regression (simply called Lasso\n",
    "Regression) is another regularized version of Linear Regression: just like Ridge\n",
    "Regression, it adds a regularization term to the cost function, but it uses the ℓ1 norm\n",
    "of the weight vector instead of half the square of the ℓ2\n",
    " norm\n",
    " \n",
    " An important characteristic of Lasso Regression is that it tends to completely elimi‐\n",
    "nate the weights of the least important features \n",
    "\n",
    " looks quadratic, almost\n",
    "linear: all the weights for the high-degree polynomial features are equal to zero. In\n",
    "other words, Lasso Regression automatically performs feature selection and outputs a\n",
    "sparse model (i.e., with few nonzero feature weights)."
   ]
  },
  {
   "cell_type": "markdown",
   "metadata": {},
   "source": [
    "On the Lasso cost function, the BGD path tends to bounce across\n",
    "the gutter toward the end. This is because the slope changes\n",
    "abruptly at θ2 = 0. You need to gradually reduce the learning rate in\n",
    "order to actually converge to the global minimum.\n",
    "\n"
   ]
  },
  {
   "cell_type": "code",
   "execution_count": 22,
   "metadata": {},
   "outputs": [
    {
     "data": {
      "text/plain": [
       "array([4.9741236])"
      ]
     },
     "execution_count": 22,
     "metadata": {},
     "output_type": "execute_result"
    }
   ],
   "source": [
    "from sklearn.linear_model import Lasso\n",
    "lasso_reg = Lasso(alpha=0.1)\n",
    "lasso_reg.fit(X, y)\n",
    "lasso_reg.predict([[1.5]])\n"
   ]
  },
  {
   "cell_type": "markdown",
   "metadata": {},
   "source": [
    "### Elastic Net\n"
   ]
  },
  {
   "cell_type": "markdown",
   "metadata": {},
   "source": [
    "Elastic Net is a middle ground between Ridge Regression and Lasso Regression. The\n",
    "regularization term is a simple mix of both Ridge and Lasso’s regularization terms,\n",
    "and you can control the mix ratio r. When r = 0,"
   ]
  },
  {
   "cell_type": "markdown",
   "metadata": {},
   "source": [
    "So when should you use Linear Regression, Ridge, Lasso, or Elastic Net? It is almost\n",
    "always preferable to have at least a little bit of regularization, so generally you should\n",
    "avoid plain Linear Regression. Ridge is a good default, but if you suspect that only a\n",
    "few features are actually useful, you should prefer Lasso or Elastic Net since they tend\n",
    "to reduce the useless features’ weights down to zero as we have discussed. In general,\n",
    "Elastic Net is preferred over Lasso since Lasso may behave erratically when the num‐\n",
    "ber of features is greater than the number of training instances or when several fea‐\n",
    "tures are strongly correlated."
   ]
  },
  {
   "cell_type": "code",
   "execution_count": 23,
   "metadata": {},
   "outputs": [
    {
     "data": {
      "text/plain": [
       "array([4.97473153])"
      ]
     },
     "execution_count": 23,
     "metadata": {},
     "output_type": "execute_result"
    }
   ],
   "source": [
    "from sklearn.linear_model import ElasticNet\n",
    "elastic_net = ElasticNet(alpha=0.1, l1_ratio=0.5)\n",
    "elastic_net.fit(X, y)\n",
    "elastic_net.predict([[1.5]])"
   ]
  },
  {
   "cell_type": "markdown",
   "metadata": {},
   "source": [
    "### Early Stopping\n"
   ]
  },
  {
   "cell_type": "markdown",
   "metadata": {},
   "source": [
    "A very different way to regularize iterative learning algorithms such as Gradient\n",
    "Descent is to stop training as soon as the validation error reaches a minimum. This is\n",
    "called early stopping. \n",
    "\n",
    "A very different way to regularize iterative learning algorithms such as Gradient\n",
    "Descent is to stop training as soon as the validation error reaches a minimum. This is\n",
    "called early stopping. \n",
    "\n",
    "With Stochastic and Mini-batch Gradient Descent, the curves are\n",
    "not so smooth, and it may be hard to know whether you have\n",
    "reached the minimum or not. One solution is to stop only after the\n",
    "validation error has been above the minimum for some time (when\n",
    "you are confident that the model will not do any better), then roll\n",
    "back the model parameters to the point where the validation error\n",
    "was at a minimum.\n"
   ]
  },
  {
   "cell_type": "code",
   "execution_count": null,
   "metadata": {},
   "outputs": [],
   "source": [
    "from sklearn.base import clone\n",
    "sgd_reg = SGDRegressor(max_iter=1, warm_start=True, penalty=None,\n",
    " learning_rate=\"constant\", eta0=0.0005)\n",
    "minimum_val_error = float(\"inf\")\n",
    "best_epoch = None\n",
    "best_model = None\n",
    "for epoch in range(1000):\n",
    "    sgd_reg.fit(X_train_poly_scaled, y_train)\n",
    "    y_val_predict = sgd_reg.predict(X_val_poly_scaled)\n",
    "    val_error = mean_squared_error(y_val_predict, y_val)\n",
    "    if val_error < minimum_val_error:\n",
    "        minimum_val_error = val_error\n",
    "        best_epoch = epoch\n",
    "        best_model = clone(sgd_reg)"
   ]
  },
  {
   "cell_type": "markdown",
   "metadata": {},
   "source": [
    "## Logistic Regression\n"
   ]
  },
  {
   "cell_type": "markdown",
   "metadata": {},
   "source": [
    "some regression algorithms can be used for classifica‐\n",
    "tion as well\n",
    "\n",
    "Logistic Regression (also called Logit Regression) is com‐\n",
    "monly used to estimate the probability that an instance belongs to a particular class\n",
    "(e.g., what is the probability that this email is spam?)."
   ]
  },
  {
   "cell_type": "markdown",
   "metadata": {},
   "source": [
    "### Estimating Probabilities\n"
   ]
  },
  {
   "cell_type": "markdown",
   "metadata": {},
   "source": [
    "Linear Regression model, a Logistic Regression\n",
    "model computes a weighted sum of the input features (plus a bias term), but instead\n",
    "of outputting the result directly like the Linear Regression model does, it outputs the\n",
    "logistic of this result\n",
    "\n",
    "The logistic—also called the logit, noted σ(·)—is a sigmoid function "
   ]
  },
  {
   "cell_type": "markdown",
   "metadata": {},
   "source": [
    "### Training and Cost Function\n"
   ]
  },
  {
   "cell_type": "markdown",
   "metadata": {},
   "source": [
    " The objective of training is to set the param‐\n",
    "eter vector θ so that the model estimates high probabilities for positive instances (y =\n",
    "1) and low probabilities for negative instances (y = 0). This idea is captured by the\n",
    "cost function shown in Equation 4-16 for a single training instance x.\n",
    "\n",
    "This cost function makes sense because – log(t) grows very large when t approaches\n",
    "0, so the cost will be large if the model estimates a probability close to 0 for a positive instance, and it will also be very large if the model estimates a probability close to 1\n",
    "for a negative instance. On the other hand, – log(t) is close to 0 when t is close to 1, so\n",
    "the cost will be close to 0 if the estimated probability is close to 0 for a negative\n",
    "instance or close to 1 for a positive instance, which is precisely what we want."
   ]
  },
  {
   "cell_type": "markdown",
   "metadata": {},
   "source": [
    "The bad news is that there is no known closed-form equation to compute the value of\n",
    "θ that minimizes this cost function (there is no equivalent of the Normal Equation).\n",
    "But the good news is that this cost function is convex, so Gradient Descent (or any\n",
    "other optimization algorithm) is guaranteed to find the global minimum (if the learn‐\n",
    "ing rate is not too large and you wait long enough)."
   ]
  },
  {
   "cell_type": "markdown",
   "metadata": {},
   "source": [
    " Once you have the gradient vector containing all\n",
    "the partial derivatives you can use it in the Batch Gradient Descent algorithm. That’s\n",
    "it: you now know how to train a Logistic Regression model. For Stochastic GD you\n",
    "would of course just take one instance at a time, and for Mini-batch GD you would\n",
    "use a mini-batch at a time.\n"
   ]
  },
  {
   "cell_type": "markdown",
   "metadata": {},
   "source": [
    "### Decision Boundaries\n"
   ]
  },
  {
   "cell_type": "code",
   "execution_count": 26,
   "metadata": {},
   "outputs": [],
   "source": [
    "from sklearn import datasets\n",
    "iris = datasets.load_iris()\n",
    "list(iris.keys())\n",
    "X = iris[\"data\"][:, 3:] \n",
    "y = (iris[\"target\"] == 2).astype(np.int) "
   ]
  },
  {
   "cell_type": "code",
   "execution_count": 27,
   "metadata": {},
   "outputs": [
    {
     "data": {
      "text/plain": [
       "LogisticRegression(C=1.0, class_weight=None, dual=False, fit_intercept=True,\n",
       "                   intercept_scaling=1, l1_ratio=None, max_iter=100,\n",
       "                   multi_class='auto', n_jobs=None, penalty='l2',\n",
       "                   random_state=None, solver='lbfgs', tol=0.0001, verbose=0,\n",
       "                   warm_start=False)"
      ]
     },
     "execution_count": 27,
     "metadata": {},
     "output_type": "execute_result"
    }
   ],
   "source": [
    "from sklearn.linear_model import LogisticRegression\n",
    "log_reg = LogisticRegression()\n",
    "log_reg.fit(X, y)"
   ]
  },
  {
   "cell_type": "code",
   "execution_count": 28,
   "metadata": {},
   "outputs": [
    {
     "data": {
      "text/plain": [
       "[<matplotlib.lines.Line2D at 0x17f6d01b248>]"
      ]
     },
     "execution_count": 28,
     "metadata": {},
     "output_type": "execute_result"
    },
    {
     "data": {
      "image/png": "[encoded data removed]",
      "text/plain": [
       "<Figure size 432x288 with 1 Axes>"
      ]
     },
     "metadata": {
      "needs_background": "light"
     },
     "output_type": "display_data"
    }
   ],
   "source": [
    "X_new = np.linspace(0, 3, 1000).reshape(-1, 1)\n",
    "y_proba = log_reg.predict_proba(X_new)\n",
    "plt.plot(X_new, y_proba[:, 1], \"g-\", label=\"Iris-Virginica\")\n",
    "plt.plot(X_new, y_proba[:, 0], \"b--\", label=\"Not Iris-Virginica\")"
   ]
  },
  {
   "cell_type": "markdown",
   "metadata": {},
   "source": [
    "if you ask it to\n",
    "predict the class (using the predict() method rather than the predict_proba()\n",
    "method), it will return whichever class is the most likely. Therefore, there is a decision\n",
    "boundary at around 1.6 cm where both probabilities are equal to 50%: if the petal\n",
    "width is higher than 1.6 cm, the classifier will predict that the flower is an IrisVirginica, or else it will predict that it is not (even if it is not very confident):"
   ]
  },
  {
   "cell_type": "code",
   "execution_count": 29,
   "metadata": {},
   "outputs": [
    {
     "data": {
      "text/plain": [
       "array([1, 0])"
      ]
     },
     "execution_count": 29,
     "metadata": {},
     "output_type": "execute_result"
    }
   ],
   "source": [
    "log_reg.predict([[1.7], [1.5]])"
   ]
  },
  {
   "cell_type": "markdown",
   "metadata": {},
   "source": [
    "The hyperparameter controlling the regularization strength of a\n",
    "Scikit-Learn LogisticRegression model is not alpha (as in other\n",
    "linear models), but its inverse: C. The higher the value of C, the less\n",
    "the model is regularized."
   ]
  },
  {
   "cell_type": "markdown",
   "metadata": {},
   "source": [
    "### Softmax Regression\n"
   ]
  },
  {
   "cell_type": "markdown",
   "metadata": {},
   "source": [
    "The Logistic Regression model can be generalized to support multiple classes directly,\n",
    "without having to train and combine multiple binary classifiers (as discussed in\n",
    "Chapter 3). This is called Somax Regression, or Multinomial Logistic Regression.\n",
    "\n",
    "when given an instance x, the Softmax Regression model\n",
    "first computes a score sk\n",
    "(x) for each class k, then estimates the probability of each\n",
    "class by applying the somax function (also called the normalized exponential) to the\n",
    "scores.\n",
    "\n",
    "Note that each class has its own dedicated parameter vector θk\n",
    ". All these vectors are\n",
    "typically stored as rows in a parameter matrix Θ.\n",
    "Once you have computed the score of every class for the instance x, you can estimate\n",
    "the probability pk\n",
    " that the instance belongs to class k by running the scores through the softmax function (Equation 4-20): it computes the exponential of every score,\n",
    "then normalizes them (dividing by the sum of all the exponentials)."
   ]
  },
  {
   "cell_type": "markdown",
   "metadata": {},
   "source": [
    "Just like the Logistic Regression classifier, the Softmax Regression classifier predicts\n",
    "the class with the highest estimated probability (which is simply the class with the\n",
    "highest score)"
   ]
  },
  {
   "cell_type": "markdown",
   "metadata": {},
   "source": [
    " The objective is to have a model that estimates a high\n",
    "probability for the target class (and consequently a low probability for the other\n",
    "classes). Minimizing the cost function shown in Equation 4-22, called the cross\n",
    "entropy, should lead to this objective because it penalizes the model when it estimates\n",
    "a low probability for a target class. Cross entropy is frequently used to measure how\n",
    "well a set of estimated class probabilities match the target classes"
   ]
  },
  {
   "cell_type": "markdown",
   "metadata": {},
   "source": [
    "### Cross Entropy\n"
   ]
  },
  {
   "cell_type": "markdown",
   "metadata": {},
   "source": [
    "Cross entropy originated from information theory. Suppose you want to efficiently\n",
    "transmit information about the weather every day. If there are eight options (sunny,\n",
    "rainy, etc.), you could encode each option using 3 bits since 23\n",
    " = 8. However, if you\n",
    "think it will be sunny almost every day, it would be much more efficient to code\n",
    "“sunny” on just one bit (0) and the other seven options on 4 bits (starting with a 1).\n",
    "Cross entropy measures the average number of bits you actually send per option. If\n",
    "your assumption about the weather is perfect, cross entropy will just be equal to the\n",
    "entropy of the weather itself (i.e., its intrinsic unpredictability). But if your assump‐\n",
    "tions are wrong (e.g., if it rains often), cross entropy will be greater by an amount\n",
    "called the Kullback–Leibler divergence."
   ]
  },
  {
   "cell_type": "markdown",
   "metadata": {},
   "source": [
    "Now you can compute the gradient vector for every class, then use Gradient Descent\n",
    "(or any other optimization algorithm) to find the parameter matrix Θ that minimizes\n",
    "the cost function.\n",
    "\n",
    "\n",
    "Let’s use Softmax Regression to classify the iris flowers into all three classes. ScikitLearn’s LogisticRegression uses one-versus-all by default when you train it on more\n",
    "than two classes, but you can set the multi_class hyperparameter to \"multinomial\"\n",
    "to switch it to Softmax Regression instead."
   ]
  },
  {
   "cell_type": "code",
   "execution_count": 30,
   "metadata": {},
   "outputs": [
    {
     "data": {
      "text/plain": [
       "LogisticRegression(C=10, class_weight=None, dual=False, fit_intercept=True,\n",
       "                   intercept_scaling=1, l1_ratio=None, max_iter=100,\n",
       "                   multi_class='multinomial', n_jobs=None, penalty='l2',\n",
       "                   random_state=None, solver='lbfgs', tol=0.0001, verbose=0,\n",
       "                   warm_start=False)"
      ]
     },
     "execution_count": 30,
     "metadata": {},
     "output_type": "execute_result"
    }
   ],
   "source": [
    "X = iris[\"data\"][:, (2, 3)] # petal length, petal width\n",
    "y = iris[\"target\"]\n",
    "softmax_reg = LogisticRegression(multi_class=\"multinomial\",solver=\"lbfgs\", C=10)\n",
    "softmax_reg.fit(X, y)"
   ]
  },
  {
   "cell_type": "code",
   "execution_count": 31,
   "metadata": {},
   "outputs": [
    {
     "data": {
      "text/plain": [
       "array([[6.38014896e-07, 5.74929995e-02, 9.42506362e-01]])"
      ]
     },
     "execution_count": 31,
     "metadata": {},
     "output_type": "execute_result"
    }
   ],
   "source": [
    "softmax_reg.predict([[5, 2]])\n",
    "softmax_reg.predict_proba([[5, 2]])"
   ]
  },
  {
   "cell_type": "code",
   "execution_count": null,
   "metadata": {},
   "outputs": [],
   "source": []
  }
 ],
 "metadata": {
  "kernelspec": {
   "display_name": "Python 3",
   "language": "python",
   "name": "python3"
  },
  "language_info": {
   "codemirror_mode": {
    "name": "ipython",
    "version": 3
   },
   "file_extension": ".py",
   "mimetype": "text/x-python",
   "name": "python",
   "nbconvert_exporter": "python",
   "pygments_lexer": "ipython3",
   "version": "3.7.4"
  }
 },
 "nbformat": 4,
 "nbformat_minor": 2
}
